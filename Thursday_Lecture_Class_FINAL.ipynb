{
 "cells": [
  {
   "cell_type": "markdown",
   "metadata": {},
   "source": [
    "# Object-Oriented-Programming (OOP)"
   ]
  },
  {
   "cell_type": "markdown",
   "metadata": {},
   "source": [
    "## Tasks Today:\n",
    "\n",
    "   \n",
    "\n",
    "1) <b>Creating a Class (Initializing/Declaring)</b> <br>\n",
    "2) <b>Using a Class (Instantiating)</b> <br>\n",
    " &nbsp;&nbsp;&nbsp;&nbsp; a) Creating One Instance <br>\n",
    " &nbsp;&nbsp;&nbsp;&nbsp; b) Creating Multiple Instances <br>\n",
    " &nbsp;&nbsp;&nbsp;&nbsp; c) In-Class Exercise #1 - Create a Class 'Car' and instantiate three different makes of cars <br>\n",
    "3) <b>The \\__init\\__() Method</b> <br>\n",
    " &nbsp;&nbsp;&nbsp;&nbsp; a) The 'self' Attribute <br>\n",
    "4) <b>Class Attributes</b> <br>\n",
    " &nbsp;&nbsp;&nbsp;&nbsp; a) Initializing Attributes <br>\n",
    " &nbsp;&nbsp;&nbsp;&nbsp; b) Setting an Attribute Outside of the \\__init\\__() Method <br>\n",
    " &nbsp;&nbsp;&nbsp;&nbsp; c) Setting Defaults for Attributes <br>\n",
    " &nbsp;&nbsp;&nbsp;&nbsp; d) Accessing Class Attributes <br>\n",
    " &nbsp;&nbsp;&nbsp;&nbsp; e) Changing Class Attributes <br>\n",
    " &nbsp;&nbsp;&nbsp;&nbsp; f) In-Class Exercise #2 - Add a color and wheels attribute to your 'Car' class <br>\n",
    "5) <b>Class Methods</b> <br>\n",
    " &nbsp;&nbsp;&nbsp;&nbsp; a) Creating <br>\n",
    " &nbsp;&nbsp;&nbsp;&nbsp; b) Calling <br>\n",
    " &nbsp;&nbsp;&nbsp;&nbsp; c) Modifying an Attribute's Value Through a Method <br>\n",
    " &nbsp;&nbsp;&nbsp;&nbsp; d) Incrementing an Attribute's Value Through a Method <br>\n",
    " &nbsp;&nbsp;&nbsp;&nbsp; e) In-Class Exercise #3 - Add a method that prints the cars color and wheel number, then call them <br>\n",
    "6) <b>Classes as Attributes</b> <br>\n",
    "7) <b>Exercise</b> <br>\n",
    " &nbsp;&nbsp;&nbsp;&nbsp; a) Exercise #1 - Turn the shopping cart program from yesterday into an object-oriented program <br>\n",
    "8) <b>For next time...</b> <br>\n",
    " &nbsp;&nbsp;&nbsp;&nbsp; a) Class Inheritance - Parent/Child Relationship Between Classes <br>\n",
    " &nbsp;&nbsp;&nbsp;&nbsp; b) the super() Method - Inheritance <br>\n",
    " &nbsp;&nbsp;&nbsp;&nbsp; c) More practice examples for OOP<br>"
   ]
  },
  {
   "cell_type": "code",
   "execution_count": 3,
   "metadata": {},
   "outputs": [
    {
     "name": "stdout",
     "output_type": "stream",
     "text": [
      "Here is your cart...\n",
      "banana\n"
     ]
    }
   ],
   "source": [
    "from IPython.display import clear_output\n",
    "\n",
    "cart = []\n",
    "\n",
    "# Add to cart function\n",
    "def addItem(item):\n",
    "    clear_output()\n",
    "    cart.append(item)\n",
    "\n",
    "# Remove cart\n",
    "def removeItem(item):\n",
    "    clear_output()\n",
    "    cart.remove(item)\n",
    "#Show cart\n",
    "def showCart():\n",
    "    clear_output()\n",
    "    print(\"Here is your cart...\")\n",
    "    for item in cart:\n",
    "        print(item)\n",
    "        \n",
    "def clearCart():\n",
    "    clear_output()\n",
    "    print(\"Your cart is now empty...\")\n",
    "    cart.clear()\n",
    "\n",
    "def shoppingCart():\n",
    "    while True:\n",
    "        response = input(\"You can: quit / add / remove / show / or clear your cart\")\n",
    "        if response.lower() == 'quit':\n",
    "            print('Thanks for shopping! Here is your cart')\n",
    "            showCart()\n",
    "            break\n",
    "        elif response.lower() == 'add':\n",
    "            item = input('What would you like to add?')\n",
    "            addItem(item)\n",
    "        elif response.lower() == 'remove':\n",
    "            showCart()\n",
    "            item = input('What do you wanna remove?')\n",
    "            removeItem(item)\n",
    "        elif response.lower() == 'show':\n",
    "            showCart()\n",
    "        elif response.lower() == 'clear':\n",
    "            clearCart()\n",
    "        else:\n",
    "            print('Sorry, not a valid response')\n",
    "            \n",
    "shoppingCart()"
   ]
  },
  {
   "cell_type": "markdown",
   "metadata": {},
   "source": [
    "## Creating a Class (Initializing/Declaring)\n",
    "<p>When creating a class, function, or even a variable you are initializing that object. Initializing and Declaring occur at the same time in Python, whereas in lower level languages you have to declare an object before initializing it. This is the first step in the process of using a class.</p>"
   ]
  },
  {
   "cell_type": "code",
   "execution_count": 5,
   "metadata": {},
   "outputs": [],
   "source": [
    "class Car():\n",
    "    wheels = 4\n",
    "    color = 'Blue'"
   ]
  },
  {
   "cell_type": "markdown",
   "metadata": {},
   "source": [
    "## Using a Class (Instantiating)\n",
    "<p>The process of creating a class is called <i>Instantiating</i>. Each time you create a variable of that type of class, it is referred to as an <i>Instance</i> of that class. This is the second step in the process of using a class.</p>"
   ]
  },
  {
   "cell_type": "markdown",
   "metadata": {},
   "source": [
    "##### Creating One Instance"
   ]
  },
  {
   "cell_type": "code",
   "execution_count": 9,
   "metadata": {},
   "outputs": [
    {
     "data": {
      "text/plain": [
       "'Blue'"
      ]
     },
     "execution_count": 9,
     "metadata": {},
     "output_type": "execute_result"
    }
   ],
   "source": [
    "ford = Car()\n",
    "\n",
    "ford.wheels\n",
    "ford.color"
   ]
  },
  {
   "cell_type": "markdown",
   "metadata": {},
   "source": [
    "##### Creating Multiple Instances"
   ]
  },
  {
   "cell_type": "code",
   "execution_count": 11,
   "metadata": {},
   "outputs": [
    {
     "data": {
      "text/plain": [
       "4"
      ]
     },
     "execution_count": 11,
     "metadata": {},
     "output_type": "execute_result"
    }
   ],
   "source": [
    "chevy = Car()\n",
    "honda = Car()\n",
    "lambo = Car()\n",
    "\n",
    "lambo.color\n",
    "honda.wheels"
   ]
  },
  {
   "cell_type": "markdown",
   "metadata": {},
   "source": [
    "##### In-Class Exercise #1 - Create a Class 'Car' and Instantiate three different makes of cars"
   ]
  },
  {
   "cell_type": "code",
   "execution_count": 15,
   "metadata": {},
   "outputs": [
    {
     "data": {
      "text/plain": [
       "False"
      ]
     },
     "execution_count": 15,
     "metadata": {},
     "output_type": "execute_result"
    }
   ],
   "source": [
    "#Create a new Car class with doors, color, wheels, sunroof = True/False\n",
    "\n",
    "class Car:\n",
    "    doors = 2\n",
    "    color = 'Blue'\n",
    "    wheels = 4\n",
    "    sunroof = False\n",
    "    \n",
    "    \n",
    "\n",
    "\n",
    "truck = Car()\n",
    "truck.sunroof"
   ]
  },
  {
   "cell_type": "markdown",
   "metadata": {},
   "source": [
    "## The \\__init\\__() Method <br>\n",
    "<p>This method is used in almost every created class, and called only once upon the creation of the class instance. This method will initialize all variables needed for the object.</p>"
   ]
  },
  {
   "cell_type": "code",
   "execution_count": 21,
   "metadata": {},
   "outputs": [
    {
     "name": "stdout",
     "output_type": "stream",
     "text": [
      "4\n",
      "1\n",
      "Car\n",
      "3\n",
      "<__main__.Toy object at 0x7fe1586af090>\n",
      "<__main__.Toy object at 0x7fe188aa78d0>\n"
     ]
    }
   ],
   "source": [
    "#'dunder' double underscore inite double underscore()\n",
    "\n",
    "class Toy:\n",
    "    kind = \"Car\"\n",
    "    \n",
    "    def __init__(self, rooftop, horn, wheels):\n",
    "        self.rooftop = rooftop\n",
    "        self.horn = horn\n",
    "        self.wheels = wheels\n",
    "\n",
    "\n",
    "hotwheels = Toy(1,1,4)\n",
    "\n",
    "print(hotwheels.wheels)\n",
    "print(hotwheels.horn)\n",
    "print(hotwheels.kind)\n",
    "\n",
    "tonka_truck = Toy(2,0,3)\n",
    "\n",
    "print(tonka_truck.wheels)\n",
    "\n",
    "print(hotwheels)\n",
    "print(tonka_truck)"
   ]
  },
  {
   "cell_type": "markdown",
   "metadata": {},
   "source": [
    "##### The 'self' Attribute <br>\n",
    "<p>This attribute is required to keep track of specific instance's attributes. Without the self attribute, the program would not know how to reference or keep track of an instance's attributes.</p>"
   ]
  },
  {
   "cell_type": "code",
   "execution_count": 25,
   "metadata": {},
   "outputs": [
    {
     "data": {
      "text/plain": [
       "2"
      ]
     },
     "execution_count": 25,
     "metadata": {},
     "output_type": "execute_result"
    }
   ],
   "source": [
    "# see above\n",
    "# new_car = Car()\n",
    "# new_car.color = 'Red'\n",
    "# new_car.color\n",
    "# new_car.wheels = 2\n",
    "# new_car.wheels"
   ]
  },
  {
   "cell_type": "markdown",
   "metadata": {},
   "source": [
    "## Class Attributes <br>\n",
    "<p>While variables are inside of a class, they are referred to as attributes and not variables. When someone says 'attribute' you know they're speaking about a class. Attributes can be initialized through the init method, or outside of it.</p>"
   ]
  },
  {
   "cell_type": "markdown",
   "metadata": {},
   "source": [
    "##### Initializing Attributes"
   ]
  },
  {
   "cell_type": "code",
   "execution_count": 26,
   "metadata": {},
   "outputs": [],
   "source": [
    "# See above\n",
    "\n",
    "truck = Toy(2, 1, 4) # 2 rooftop, 1 horn, 4 wheels\n",
    "\n",
    "\n"
   ]
  },
  {
   "cell_type": "markdown",
   "metadata": {},
   "source": [
    "##### Accessing Class Attributes"
   ]
  },
  {
   "cell_type": "code",
   "execution_count": 27,
   "metadata": {
    "scrolled": true
   },
   "outputs": [
    {
     "data": {
      "text/plain": [
       "2"
      ]
     },
     "execution_count": 27,
     "metadata": {},
     "output_type": "execute_result"
    }
   ],
   "source": [
    "# See Above\n",
    "truck.rooftop"
   ]
  },
  {
   "cell_type": "markdown",
   "metadata": {},
   "source": [
    "##### Setting Defaults for Attributes"
   ]
  },
  {
   "cell_type": "code",
   "execution_count": 34,
   "metadata": {},
   "outputs": [],
   "source": [
    "class Human:\n",
    "    def __init__(self, eyes, height, activity, hair=\"Brown\"):\n",
    "        self.eyes = eyes\n",
    "        self.height = height\n",
    "        self.activity = activity\n",
    "        self.hair = hair\n",
    "        \n",
    "\n",
    "nate = Human(\"Blue\",\"6ft1in\",True)\n"
   ]
  },
  {
   "cell_type": "markdown",
   "metadata": {},
   "source": [
    "##### Changing Class Attributes <br>\n",
    "<p>Keep in mind there are global class attributes and then there are attributes only available to each class instance which won't effect other classes.</p>"
   ]
  },
  {
   "cell_type": "code",
   "execution_count": 35,
   "metadata": {},
   "outputs": [
    {
     "name": "stdout",
     "output_type": "stream",
     "text": [
      "Blue\n",
      "Green\n"
     ]
    }
   ],
   "source": [
    "print(nate.eyes)\n",
    "nate.eyes = \"Green\"\n",
    "print(nate.eyes)"
   ]
  },
  {
   "cell_type": "markdown",
   "metadata": {},
   "source": [
    "##### In-Class Exercise #2 - Add a doors and seats attribute to your 'Car' class then print out two different instances with different doors and seats"
   ]
  },
  {
   "cell_type": "code",
   "execution_count": 44,
   "metadata": {},
   "outputs": [
    {
     "name": "stdout",
     "output_type": "stream",
     "text": [
      "False\n",
      "2\n",
      "8\n"
     ]
    },
    {
     "data": {
      "text/plain": [
       "<__main__.Car at 0x7fe1188d4050>"
      ]
     },
     "execution_count": 44,
     "metadata": {},
     "output_type": "execute_result"
    }
   ],
   "source": [
    "# class Car:\n",
    "#     doors = 2\n",
    "#     color = 'Blue'\n",
    "#     wheels = 4\n",
    "#     sunroof = False\n",
    "\n",
    "class Car:\n",
    "    def __init__(self, doors, color, wheels, sunroof, seats):\n",
    "        self.doors = doors\n",
    "        self.color = color\n",
    "        self.wheels = wheels\n",
    "        self.sunroof = sunroof\n",
    "        self.seats = seats\n",
    "\n",
    "toyota = Car(3, 'black', 4, False, 5)\n",
    "nissan = Car(2, 'white', 4, True, 8)\n",
    "\n",
    "print(toyota.sunroof)\n",
    "print(nissan.doors)\n",
    "print(nissan.seats)\n",
    "toyota"
   ]
  },
  {
   "cell_type": "markdown",
   "metadata": {},
   "source": [
    "## \"__repr__()\" method"
   ]
  },
  {
   "cell_type": "code",
   "execution_count": 47,
   "metadata": {},
   "outputs": [
    {
     "name": "stdout",
     "output_type": "stream",
     "text": [
      "{'doors': 3, 'color': 'black', 'wheels': 4, 'sunroof': False, 'seats': 5}\n",
      "'Car with 3 doors, 4 wheels, sunroof = False, and 5 seats. This car is black'\n"
     ]
    }
   ],
   "source": [
    "# __repr__() - for end user\n",
    "class Car:\n",
    "    def __init__(self, doors, color, wheels, sunroof, seats):\n",
    "        self.doors = doors\n",
    "        self.color = color\n",
    "        self.wheels = wheels\n",
    "        self.sunroof = sunroof\n",
    "        self.seats = seats\n",
    "        \n",
    "    def __repr__(self):\n",
    "        return repr(f'Car with {self.doors} doors, {self.wheels} wheels, sunroof = {self.sunroof}, and {self.seats} seats. This car is {self.color}')\n",
    "    \n",
    "toyota = Car(3, 'black', 4, False, 5)\n",
    "print(toyota.__dict__)\n",
    "print(toyota)"
   ]
  },
  {
   "cell_type": "markdown",
   "metadata": {},
   "source": [
    "## __str__() method"
   ]
  },
  {
   "cell_type": "code",
   "execution_count": 53,
   "metadata": {},
   "outputs": [
    {
     "data": {
      "text/plain": [
       "'Car with 3 doors, 4 wheels, sunroof = False, and 5 seats. This car is black'"
      ]
     },
     "execution_count": 53,
     "metadata": {},
     "output_type": "execute_result"
    }
   ],
   "source": [
    "# for developer\n",
    "class Car:\n",
    "    def __init__(self, doors, color, wheels, sunroof, seats):\n",
    "        self.doors = doors\n",
    "        self.color = color\n",
    "        self.wheels = wheels\n",
    "        self.sunroof = sunroof\n",
    "        self.seats = seats\n",
    "    def __repr__(self):\n",
    "        return repr(f'Car with {self.doors} doors, {self.wheels} wheels, sunroof = {self.sunroof}, and {self.seats} seats. This car is {self.color}')\n",
    "    def __str__(self):\n",
    "        return \"Car class has some doors\"\n",
    "\n",
    "\n",
    "toyota = Car(3, 'black', 4, False, 5)       \n",
    "toyota"
   ]
  },
  {
   "cell_type": "markdown",
   "metadata": {},
   "source": [
    "## Class Methods <br>\n",
    "<p>While inside of a class, functions are referred to as 'methods'. If you hear someone mention methods, they're speaking about classes. Methods are essentially functions, but only callable on the instances of a class.</p>"
   ]
  },
  {
   "cell_type": "markdown",
   "metadata": {},
   "source": [
    "##### Creating"
   ]
  },
  {
   "cell_type": "code",
   "execution_count": 60,
   "metadata": {},
   "outputs": [
    {
     "name": "stdout",
     "output_type": "stream",
     "text": [
      "What do you want to do? Add, show, changecap or quitadd\n",
      "What would you like to add?banana\n",
      "What do you want to do? Add, show, changecap or quitadd\n",
      "What would you like to add?orange\n",
      "What do you want to do? Add, show, changecap or quitchangecap\n",
      "Auto increase or change manually? (A/C)a\n",
      "What do you want to do? Add, show, changecap or quitquit\n",
      "{'handles': 2, 'capacity': 20, 'items': ['banana', 'orange']}\n"
     ]
    }
   ],
   "source": [
    "class ShoppingBag():\n",
    "    def __init__(self, handles, capacity,items):\n",
    "        self.handles = handles\n",
    "        self.capacity = capacity\n",
    "        self.items = items\n",
    "    \n",
    "    \"\"\"\n",
    "        ShoppingBag will require 3 positional arguments:\n",
    "        handles: which expects to be an integer\n",
    "        capacity: also assuming to be an integer\n",
    "        items: which expects to be a list - list CAN be empty\n",
    "    \"\"\"\n",
    "    # Method to show ShoppingBag\n",
    "    def showShoppingBag(self):\n",
    "        print(\"Here are the items in your bag...\")\n",
    "        for item in self.items:\n",
    "            print(item)\n",
    "    \n",
    "    # Method to show capacity\n",
    "    def showCapacity(self):\n",
    "        print(f'Your current capacity is {self.capacity}')\n",
    "    \n",
    "    \n",
    "    # Method to add item to ShoppingBag\n",
    "    def addToShoppingBag(self):\n",
    "        product = input(\"What would you like to add?\")\n",
    "        self.items.append(product)\n",
    "    \n",
    "    #Method to change Cap\n",
    "    def changeBagCap(self, capacity):\n",
    "        \"\"\"Assumes capacity to be integer\"\"\"\n",
    "        self.capacity = capacity\n",
    "    \n",
    "    #Method to autoincrease cap\n",
    "    def autoIncrease(self):\n",
    "        self.capacity +=10\n",
    "\n",
    "\n",
    "def run():\n",
    "    food_bag = ShoppingBag(2, 10, [])\n",
    "    while True:\n",
    "        \n",
    "        response = input(\"What do you want to do? Add, show, changecap or quit\")\n",
    "        if response.lower() == 'add':\n",
    "            food_bag.addToShoppingBag()\n",
    "        elif response.lower() == 'show':\n",
    "            food_bag.showShoppingBag()\n",
    "        elif response.lower() == 'changecap':\n",
    "            ask = input(\"Auto increase or change manually? (A/C)\")\n",
    "            if ask.lower() == 'a':\n",
    "                food_bag.autoIncrease()\n",
    "            else:\n",
    "                res = input(\"by how much?\")\n",
    "                food_bag.changeBagCap(int(res))\n",
    "        elif response.lower() == 'quit':\n",
    "            print(food_bag.__dict__)\n",
    "            break\n",
    "        \n",
    "    \n",
    "    \n",
    "    \n",
    "    \n",
    "    \n",
    "run()"
   ]
  },
  {
   "cell_type": "markdown",
   "metadata": {},
   "source": [
    "##### Calling"
   ]
  },
  {
   "cell_type": "code",
   "execution_count": null,
   "metadata": {},
   "outputs": [],
   "source": [
    "# See Above"
   ]
  },
  {
   "cell_type": "markdown",
   "metadata": {},
   "source": [
    "##### Modifying an Attribute's Value Through a Method"
   ]
  },
  {
   "cell_type": "code",
   "execution_count": 62,
   "metadata": {},
   "outputs": [
    {
     "name": "stdout",
     "output_type": "stream",
     "text": [
      "Your current capacity is 10\n",
      "None\n",
      "25\n"
     ]
    }
   ],
   "source": [
    "#Manual increase from above\n",
    "food = ShoppingBag(2,10, [])\n",
    "print(food.showCapacity())\n",
    "food.changeBagCap(25)\n",
    "print(food.capacity)"
   ]
  },
  {
   "cell_type": "markdown",
   "metadata": {},
   "source": [
    "##### Incrementing an Attribute's Value Through a Method"
   ]
  },
  {
   "cell_type": "code",
   "execution_count": null,
   "metadata": {},
   "outputs": [],
   "source": [
    "#AutoIncrease from above"
   ]
  },
  {
   "cell_type": "markdown",
   "metadata": {},
   "source": [
    "##### In-Class Exercise #3 - Add a method that takes in three parameters of year, doors and seats and prints out a formatted print statement with make, model, year, seats, and doors"
   ]
  },
  {
   "cell_type": "code",
   "execution_count": 72,
   "metadata": {},
   "outputs": [
    {
     "name": "stdout",
     "output_type": "stream",
     "text": [
      "This car is from 2019 and is a Ford Explorer and has 4 doors and 5 seats \n"
     ]
    }
   ],
   "source": [
    "# Create class with 2 paramters inside of the __init__ which are make and model\n",
    "\n",
    "# Inside of the Car class create a method that has 4 parameter in total (self,year,door,seats)\n",
    "\n",
    "# Output: This car is from 2019 and is a Ford Expolorer and has 4 doors and 5 seats\n",
    "\n",
    "class Car():\n",
    "    def __init__(self,make,model):\n",
    "        self.make = make\n",
    "        self.model = model\n",
    "    \n",
    "    def carBuild(self,year,door,seats):\n",
    "        if door == isinstance(door, str) or year == isinstance(year, str) or seats == isinstance(seats, str):\n",
    "            print(\"try again with a number!\")\n",
    "        else:\n",
    "            print(f'This car is from {year} and is a {self.make} {self.model} and has {door} doors and {seats} seats ')\n",
    "\n",
    "ford_exp = Car('Ford', 'Explorer')\n",
    "ford_exp.carBuild(2019,4,5)"
   ]
  },
  {
   "cell_type": "markdown",
   "metadata": {},
   "source": [
    "## Classes as Attributes <br>\n",
    "<p>Classes can also be used as attributes within another class. This is useful in situations where you need to keep variables locally stored, instead of globally stored.</p>"
   ]
  },
  {
   "cell_type": "code",
   "execution_count": 70,
   "metadata": {},
   "outputs": [
    {
     "data": {
      "text/plain": [
       "{'cells': 20}"
      ]
     },
     "execution_count": 70,
     "metadata": {},
     "output_type": "execute_result"
    }
   ],
   "source": [
    "class Battery():\n",
    "    volts = 7.8\n",
    "    def __init__(self, cells):\n",
    "        self.cells  =cells\n",
    "\n",
    "class Car():\n",
    "    def __init__(self, make, model, battery):\n",
    "        self.make = make\n",
    "        self.model = model\n",
    "        self.battery = battery\n",
    "        \n",
    "batt = Battery(20)\n",
    "\n",
    "tesla = Car('Tesla', \"Model Y\", batt)\n",
    "\n",
    "tesla.battery"
   ]
  },
  {
   "cell_type": "markdown",
   "metadata": {},
   "source": [
    "# Exercise"
   ]
  },
  {
   "cell_type": "markdown",
   "metadata": {},
   "source": [
    "### Exercise 1 - Turn the shopping cart program from yesterday into an object-oriented program\n",
    "\n",
    "The comments in the cell below are there as a guide for thinking about the problem. However, if you feel a different way is best for you and your own thought process, please do what feels best for you by all means."
   ]
  },
  {
   "cell_type": "code",
   "execution_count": 73,
   "metadata": {},
   "outputs": [
    {
     "name": "stdout",
     "output_type": "stream",
     "text": [
      "Thank you for shopping!\n"
     ]
    }
   ],
   "source": [
    "# Create a class called cart that retains items and has methods to add, remove, and show\n",
    "\n",
    "class Cart():\n",
    "    def __init__(self,items):\n",
    "        self.items = items\n",
    "        \n",
    "    def showCart(self):\n",
    "        clear_output()\n",
    "        print('Here are the items in your cart...')\n",
    "        for item in self.items:\n",
    "            print(item)\n",
    "            \n",
    "    def addItems(self):\n",
    "        clear_output()\n",
    "        products = input(\"What product would you like to add?\")\n",
    "        self.items.append(products)\n",
    "    \n",
    "    def deleteItems(self):\n",
    "        clear_output()\n",
    "        del_prod = input(\"What product would you like to remove?\")\n",
    "        self.items.remove(del_prod)\n",
    "        \n",
    "    def quitCart(self):\n",
    "        clear_output()\n",
    "        print('Thank you for shopping!')\n",
    "        for item in self.items:\n",
    "            print(item)\n",
    "        \n",
    "def runCart():\n",
    "    new_cart = Cart([])\n",
    "    while True:\n",
    "        response = input('What would you like to do?(Add/Delete/Show or Quit?')\n",
    "        if response.lower() == 'add':\n",
    "            new_cart.addItems()\n",
    "        if response.lower() == 'delete':\n",
    "            new_cart.deleteItems()\n",
    "        if response.lower() == 'show':\n",
    "            new_cart.showCart()\n",
    "        if response.lower() == 'quit':\n",
    "            new_cart.quitCart()\n",
    "            break\n",
    "runCart()"
   ]
  },
  {
   "cell_type": "code",
   "execution_count": null,
   "metadata": {},
   "outputs": [],
   "source": []
  }
 ],
 "metadata": {
  "kernelspec": {
   "display_name": "Python 3",
   "language": "python",
   "name": "python3"
  },
  "language_info": {
   "codemirror_mode": {
    "name": "ipython",
    "version": 3
   },
   "file_extension": ".py",
   "mimetype": "text/x-python",
   "name": "python",
   "nbconvert_exporter": "python",
   "pygments_lexer": "ipython3",
   "version": "3.7.6"
  }
 },
 "nbformat": 4,
 "nbformat_minor": 2
}
